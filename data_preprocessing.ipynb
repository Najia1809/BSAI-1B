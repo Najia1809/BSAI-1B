{
 "cells": [
  {
   "cell_type": "code",
   "execution_count": 2,
   "metadata": {},
   "outputs": [
    {
     "data": {
      "text/html": [
       "<div>\n",
       "<style scoped>\n",
       "    .dataframe tbody tr th:only-of-type {\n",
       "        vertical-align: middle;\n",
       "    }\n",
       "\n",
       "    .dataframe tbody tr th {\n",
       "        vertical-align: top;\n",
       "    }\n",
       "\n",
       "    .dataframe thead th {\n",
       "        text-align: right;\n",
       "    }\n",
       "</style>\n",
       "<table border=\"1\" class=\"dataframe\">\n",
       "  <thead>\n",
       "    <tr style=\"text-align: right;\">\n",
       "      <th></th>\n",
       "      <th>Platform Name</th>\n",
       "      <th>Launch Year</th>\n",
       "      <th>Category</th>\n",
       "      <th>Primary Feature</th>\n",
       "      <th>Active Users (Million)</th>\n",
       "      <th>Target Audience</th>\n",
       "      <th>Unnamed: 6</th>\n",
       "    </tr>\n",
       "  </thead>\n",
       "  <tbody>\n",
       "    <tr>\n",
       "      <th>0</th>\n",
       "      <td>Facebook</td>\n",
       "      <td>2004</td>\n",
       "      <td>Social Networking</td>\n",
       "      <td>Social media, messaging</td>\n",
       "      <td>2900</td>\n",
       "      <td>General public</td>\n",
       "      <td>NaN</td>\n",
       "    </tr>\n",
       "    <tr>\n",
       "      <th>1</th>\n",
       "      <td>YouTube</td>\n",
       "      <td>2005</td>\n",
       "      <td>Video Sharing</td>\n",
       "      <td>Video streaming</td>\n",
       "      <td>2200</td>\n",
       "      <td>General public</td>\n",
       "      <td>NaN</td>\n",
       "    </tr>\n",
       "    <tr>\n",
       "      <th>2</th>\n",
       "      <td>WhatsApp</td>\n",
       "      <td>2009</td>\n",
       "      <td>Messaging</td>\n",
       "      <td>Instant messaging</td>\n",
       "      <td>2000</td>\n",
       "      <td>General public</td>\n",
       "      <td>NaN</td>\n",
       "    </tr>\n",
       "    <tr>\n",
       "      <th>3</th>\n",
       "      <td>Instagram</td>\n",
       "      <td>2010</td>\n",
       "      <td>Social Networking</td>\n",
       "      <td>Image sharing, Stories</td>\n",
       "      <td>1500</td>\n",
       "      <td>Young adults, teens</td>\n",
       "      <td>NaN</td>\n",
       "    </tr>\n",
       "    <tr>\n",
       "      <th>4</th>\n",
       "      <td>TikTok</td>\n",
       "      <td>2016</td>\n",
       "      <td>Social Networking</td>\n",
       "      <td>Short-form videos</td>\n",
       "      <td>1200</td>\n",
       "      <td>Teens, young adults</td>\n",
       "      <td>NaN</td>\n",
       "    </tr>\n",
       "    <tr>\n",
       "      <th>...</th>\n",
       "      <td>...</td>\n",
       "      <td>...</td>\n",
       "      <td>...</td>\n",
       "      <td>...</td>\n",
       "      <td>...</td>\n",
       "      <td>...</td>\n",
       "      <td>...</td>\n",
       "    </tr>\n",
       "    <tr>\n",
       "      <th>100</th>\n",
       "      <td>Giphy</td>\n",
       "      <td>2013</td>\n",
       "      <td>Social Networking</td>\n",
       "      <td>GIF sharing</td>\n",
       "      <td>100</td>\n",
       "      <td>General public</td>\n",
       "      <td>NaN</td>\n",
       "    </tr>\n",
       "    <tr>\n",
       "      <th>101</th>\n",
       "      <td>Vero</td>\n",
       "      <td>2015</td>\n",
       "      <td>Social Networking</td>\n",
       "      <td>Ad-free social media</td>\n",
       "      <td>10</td>\n",
       "      <td>Privacy-conscious users</td>\n",
       "      <td>NaN</td>\n",
       "    </tr>\n",
       "    <tr>\n",
       "      <th>102</th>\n",
       "      <td>Tout</td>\n",
       "      <td>2010</td>\n",
       "      <td>Social Networking</td>\n",
       "      <td>Short video posts</td>\n",
       "      <td>5</td>\n",
       "      <td>Social media influencers</td>\n",
       "      <td>NaN</td>\n",
       "    </tr>\n",
       "    <tr>\n",
       "      <th>103</th>\n",
       "      <td>WT Social</td>\n",
       "      <td>2019</td>\n",
       "      <td>Social Networking</td>\n",
       "      <td>Ad-free social network</td>\n",
       "      <td>5</td>\n",
       "      <td>General public</td>\n",
       "      <td>NaN</td>\n",
       "    </tr>\n",
       "    <tr>\n",
       "      <th>104</th>\n",
       "      <td>Ello</td>\n",
       "      <td>2014</td>\n",
       "      <td>Social Networking</td>\n",
       "      <td>Artist-focused platform</td>\n",
       "      <td>5</td>\n",
       "      <td>Artists, creatives</td>\n",
       "      <td>NaN</td>\n",
       "    </tr>\n",
       "  </tbody>\n",
       "</table>\n",
       "<p>105 rows × 7 columns</p>\n",
       "</div>"
      ],
      "text/plain": [
       "    Platform Name  Launch Year           Category          Primary Feature  \\\n",
       "0        Facebook         2004  Social Networking  Social media, messaging   \n",
       "1         YouTube         2005      Video Sharing          Video streaming   \n",
       "2        WhatsApp         2009          Messaging        Instant messaging   \n",
       "3       Instagram         2010  Social Networking   Image sharing, Stories   \n",
       "4          TikTok         2016  Social Networking        Short-form videos   \n",
       "..            ...          ...                ...                      ...   \n",
       "100         Giphy         2013  Social Networking              GIF sharing   \n",
       "101          Vero         2015  Social Networking     Ad-free social media   \n",
       "102          Tout         2010  Social Networking        Short video posts   \n",
       "103     WT Social         2019  Social Networking   Ad-free social network   \n",
       "104          Ello         2014  Social Networking  Artist-focused platform   \n",
       "\n",
       "     Active Users (Million)           Target Audience  Unnamed: 6  \n",
       "0                      2900            General public         NaN  \n",
       "1                      2200            General public         NaN  \n",
       "2                      2000            General public         NaN  \n",
       "3                      1500       Young adults, teens         NaN  \n",
       "4                      1200       Teens, young adults         NaN  \n",
       "..                      ...                       ...         ...  \n",
       "100                     100            General public         NaN  \n",
       "101                      10   Privacy-conscious users         NaN  \n",
       "102                       5  Social media influencers         NaN  \n",
       "103                       5            General public         NaN  \n",
       "104                       5        Artists, creatives         NaN  \n",
       "\n",
       "[105 rows x 7 columns]"
      ]
     },
     "execution_count": 2,
     "metadata": {},
     "output_type": "execute_result"
    }
   ],
   "source": [
    "import pandas as pd\n",
    "pd.read_csv(\"topranks.csv\")"
   ]
  },
  {
   "cell_type": "code",
   "execution_count": 3,
   "metadata": {},
   "outputs": [],
   "source": [
    "df= DataFrame = pd.read_csv(\"topranks.csv\")"
   ]
  },
  {
   "cell_type": "markdown",
   "metadata": {},
   "source": [
    "## Data Cleaning:-"
   ]
  },
  {
   "cell_type": "code",
   "execution_count": 11,
   "metadata": {},
   "outputs": [
    {
     "data": {
      "text/html": [
       "<div>\n",
       "<style scoped>\n",
       "    .dataframe tbody tr th:only-of-type {\n",
       "        vertical-align: middle;\n",
       "    }\n",
       "\n",
       "    .dataframe tbody tr th {\n",
       "        vertical-align: top;\n",
       "    }\n",
       "\n",
       "    .dataframe thead th {\n",
       "        text-align: right;\n",
       "    }\n",
       "</style>\n",
       "<table border=\"1\" class=\"dataframe\">\n",
       "  <thead>\n",
       "    <tr style=\"text-align: right;\">\n",
       "      <th></th>\n",
       "      <th>Platform</th>\n",
       "      <th>Launch Year</th>\n",
       "      <th>Category</th>\n",
       "      <th>Primary Feature</th>\n",
       "      <th>Active Users (Million)</th>\n",
       "      <th>Target Audience</th>\n",
       "      <th>Unnamed: 6</th>\n",
       "    </tr>\n",
       "  </thead>\n",
       "  <tbody>\n",
       "    <tr>\n",
       "      <th>0</th>\n",
       "      <td>Facebook</td>\n",
       "      <td>2004</td>\n",
       "      <td>Social Networking</td>\n",
       "      <td>Social media, messaging</td>\n",
       "      <td>2900</td>\n",
       "      <td>General public</td>\n",
       "      <td>NaN</td>\n",
       "    </tr>\n",
       "    <tr>\n",
       "      <th>1</th>\n",
       "      <td>YouTube</td>\n",
       "      <td>2005</td>\n",
       "      <td>Video Sharing</td>\n",
       "      <td>Video streaming</td>\n",
       "      <td>2200</td>\n",
       "      <td>General public</td>\n",
       "      <td>NaN</td>\n",
       "    </tr>\n",
       "    <tr>\n",
       "      <th>2</th>\n",
       "      <td>WhatsApp</td>\n",
       "      <td>2009</td>\n",
       "      <td>Messaging</td>\n",
       "      <td>Instant messaging</td>\n",
       "      <td>2000</td>\n",
       "      <td>General public</td>\n",
       "      <td>NaN</td>\n",
       "    </tr>\n",
       "    <tr>\n",
       "      <th>3</th>\n",
       "      <td>Instagram</td>\n",
       "      <td>2010</td>\n",
       "      <td>Social Networking</td>\n",
       "      <td>Image sharing, Stories</td>\n",
       "      <td>1500</td>\n",
       "      <td>Young adults, teens</td>\n",
       "      <td>NaN</td>\n",
       "    </tr>\n",
       "    <tr>\n",
       "      <th>4</th>\n",
       "      <td>TikTok</td>\n",
       "      <td>2016</td>\n",
       "      <td>Social Networking</td>\n",
       "      <td>Short-form videos</td>\n",
       "      <td>1200</td>\n",
       "      <td>Teens, young adults</td>\n",
       "      <td>NaN</td>\n",
       "    </tr>\n",
       "    <tr>\n",
       "      <th>...</th>\n",
       "      <td>...</td>\n",
       "      <td>...</td>\n",
       "      <td>...</td>\n",
       "      <td>...</td>\n",
       "      <td>...</td>\n",
       "      <td>...</td>\n",
       "      <td>...</td>\n",
       "    </tr>\n",
       "    <tr>\n",
       "      <th>100</th>\n",
       "      <td>Giphy</td>\n",
       "      <td>2013</td>\n",
       "      <td>Social Networking</td>\n",
       "      <td>GIF sharing</td>\n",
       "      <td>100</td>\n",
       "      <td>General public</td>\n",
       "      <td>NaN</td>\n",
       "    </tr>\n",
       "    <tr>\n",
       "      <th>101</th>\n",
       "      <td>Vero</td>\n",
       "      <td>2015</td>\n",
       "      <td>Social Networking</td>\n",
       "      <td>Ad-free social media</td>\n",
       "      <td>10</td>\n",
       "      <td>Privacy-conscious users</td>\n",
       "      <td>NaN</td>\n",
       "    </tr>\n",
       "    <tr>\n",
       "      <th>102</th>\n",
       "      <td>Tout</td>\n",
       "      <td>2010</td>\n",
       "      <td>Social Networking</td>\n",
       "      <td>Short video posts</td>\n",
       "      <td>5</td>\n",
       "      <td>Social media influencers</td>\n",
       "      <td>NaN</td>\n",
       "    </tr>\n",
       "    <tr>\n",
       "      <th>103</th>\n",
       "      <td>WT Social</td>\n",
       "      <td>2019</td>\n",
       "      <td>Social Networking</td>\n",
       "      <td>Ad-free social network</td>\n",
       "      <td>5</td>\n",
       "      <td>General public</td>\n",
       "      <td>NaN</td>\n",
       "    </tr>\n",
       "    <tr>\n",
       "      <th>104</th>\n",
       "      <td>Ello</td>\n",
       "      <td>2014</td>\n",
       "      <td>Social Networking</td>\n",
       "      <td>Artist-focused platform</td>\n",
       "      <td>5</td>\n",
       "      <td>Artists, creatives</td>\n",
       "      <td>NaN</td>\n",
       "    </tr>\n",
       "  </tbody>\n",
       "</table>\n",
       "<p>105 rows × 7 columns</p>\n",
       "</div>"
      ],
      "text/plain": [
       "      Platform  Launch Year           Category          Primary Feature  \\\n",
       "0     Facebook         2004  Social Networking  Social media, messaging   \n",
       "1      YouTube         2005      Video Sharing          Video streaming   \n",
       "2     WhatsApp         2009          Messaging        Instant messaging   \n",
       "3    Instagram         2010  Social Networking   Image sharing, Stories   \n",
       "4       TikTok         2016  Social Networking        Short-form videos   \n",
       "..         ...          ...                ...                      ...   \n",
       "100      Giphy         2013  Social Networking              GIF sharing   \n",
       "101       Vero         2015  Social Networking     Ad-free social media   \n",
       "102       Tout         2010  Social Networking        Short video posts   \n",
       "103  WT Social         2019  Social Networking   Ad-free social network   \n",
       "104       Ello         2014  Social Networking  Artist-focused platform   \n",
       "\n",
       "     Active Users (Million)           Target Audience  Unnamed: 6  \n",
       "0                      2900            General public         NaN  \n",
       "1                      2200            General public         NaN  \n",
       "2                      2000            General public         NaN  \n",
       "3                      1500       Young adults, teens         NaN  \n",
       "4                      1200       Teens, young adults         NaN  \n",
       "..                      ...                       ...         ...  \n",
       "100                     100            General public         NaN  \n",
       "101                      10   Privacy-conscious users         NaN  \n",
       "102                       5  Social media influencers         NaN  \n",
       "103                       5            General public         NaN  \n",
       "104                       5        Artists, creatives         NaN  \n",
       "\n",
       "[105 rows x 7 columns]"
      ]
     },
     "execution_count": 11,
     "metadata": {},
     "output_type": "execute_result"
    }
   ],
   "source": [
    "df"
   ]
  },
  {
   "cell_type": "markdown",
   "metadata": {},
   "source": [
    "**The function \"df.isnull().sum()\" checks each cell in the DataFrame for missing values (NaN or None) and returns a DataFrame of the same shape**"
   ]
  },
  {
   "cell_type": "code",
   "execution_count": 13,
   "metadata": {},
   "outputs": [
    {
     "data": {
      "text/plain": [
       "Platform                    0\n",
       "Launch Year                 0\n",
       "Category                    0\n",
       "Primary Feature             0\n",
       "Active Users (Million)      0\n",
       "Target Audience             0\n",
       "Unnamed: 6                105\n",
       "dtype: int64"
      ]
     },
     "execution_count": 13,
     "metadata": {},
     "output_type": "execute_result"
    }
   ],
   "source": [
    "df.isnull().sum()"
   ]
  },
  {
   "cell_type": "code",
   "execution_count": 4,
   "metadata": {},
   "outputs": [
    {
     "data": {
      "text/plain": [
       "(105, 7)"
      ]
     },
     "execution_count": 4,
     "metadata": {},
     "output_type": "execute_result"
    }
   ],
   "source": [
    "df.shape  #how many columns and rows"
   ]
  },
  {
   "cell_type": "code",
   "execution_count": 5,
   "metadata": {},
   "outputs": [
    {
     "data": {
      "text/html": [
       "<div>\n",
       "<style scoped>\n",
       "    .dataframe tbody tr th:only-of-type {\n",
       "        vertical-align: middle;\n",
       "    }\n",
       "\n",
       "    .dataframe tbody tr th {\n",
       "        vertical-align: top;\n",
       "    }\n",
       "\n",
       "    .dataframe thead th {\n",
       "        text-align: right;\n",
       "    }\n",
       "</style>\n",
       "<table border=\"1\" class=\"dataframe\">\n",
       "  <thead>\n",
       "    <tr style=\"text-align: right;\">\n",
       "      <th></th>\n",
       "      <th>Platform Name</th>\n",
       "      <th>Launch Year</th>\n",
       "      <th>Category</th>\n",
       "      <th>Primary Feature</th>\n",
       "      <th>Active Users (Million)</th>\n",
       "      <th>Target Audience</th>\n",
       "      <th>Unnamed: 6</th>\n",
       "    </tr>\n",
       "  </thead>\n",
       "  <tbody>\n",
       "    <tr>\n",
       "      <th>0</th>\n",
       "      <td>Facebook</td>\n",
       "      <td>2004</td>\n",
       "      <td>Social Networking</td>\n",
       "      <td>Social media, messaging</td>\n",
       "      <td>2900</td>\n",
       "      <td>General public</td>\n",
       "      <td>NaN</td>\n",
       "    </tr>\n",
       "    <tr>\n",
       "      <th>1</th>\n",
       "      <td>YouTube</td>\n",
       "      <td>2005</td>\n",
       "      <td>Video Sharing</td>\n",
       "      <td>Video streaming</td>\n",
       "      <td>2200</td>\n",
       "      <td>General public</td>\n",
       "      <td>NaN</td>\n",
       "    </tr>\n",
       "    <tr>\n",
       "      <th>2</th>\n",
       "      <td>WhatsApp</td>\n",
       "      <td>2009</td>\n",
       "      <td>Messaging</td>\n",
       "      <td>Instant messaging</td>\n",
       "      <td>2000</td>\n",
       "      <td>General public</td>\n",
       "      <td>NaN</td>\n",
       "    </tr>\n",
       "    <tr>\n",
       "      <th>3</th>\n",
       "      <td>Instagram</td>\n",
       "      <td>2010</td>\n",
       "      <td>Social Networking</td>\n",
       "      <td>Image sharing, Stories</td>\n",
       "      <td>1500</td>\n",
       "      <td>Young adults, teens</td>\n",
       "      <td>NaN</td>\n",
       "    </tr>\n",
       "    <tr>\n",
       "      <th>4</th>\n",
       "      <td>TikTok</td>\n",
       "      <td>2016</td>\n",
       "      <td>Social Networking</td>\n",
       "      <td>Short-form videos</td>\n",
       "      <td>1200</td>\n",
       "      <td>Teens, young adults</td>\n",
       "      <td>NaN</td>\n",
       "    </tr>\n",
       "  </tbody>\n",
       "</table>\n",
       "</div>"
      ],
      "text/plain": [
       "  Platform Name  Launch Year           Category          Primary Feature  \\\n",
       "0      Facebook         2004  Social Networking  Social media, messaging   \n",
       "1       YouTube         2005      Video Sharing          Video streaming   \n",
       "2      WhatsApp         2009          Messaging        Instant messaging   \n",
       "3     Instagram         2010  Social Networking   Image sharing, Stories   \n",
       "4        TikTok         2016  Social Networking        Short-form videos   \n",
       "\n",
       "   Active Users (Million)      Target Audience  Unnamed: 6  \n",
       "0                    2900       General public         NaN  \n",
       "1                    2200       General public         NaN  \n",
       "2                    2000       General public         NaN  \n",
       "3                    1500  Young adults, teens         NaN  \n",
       "4                    1200  Teens, young adults         NaN  "
      ]
     },
     "execution_count": 5,
     "metadata": {},
     "output_type": "execute_result"
    }
   ],
   "source": [
    "df.head(5) #used for first rows"
   ]
  },
  {
   "cell_type": "code",
   "execution_count": 6,
   "metadata": {},
   "outputs": [
    {
     "data": {
      "text/html": [
       "<div>\n",
       "<style scoped>\n",
       "    .dataframe tbody tr th:only-of-type {\n",
       "        vertical-align: middle;\n",
       "    }\n",
       "\n",
       "    .dataframe tbody tr th {\n",
       "        vertical-align: top;\n",
       "    }\n",
       "\n",
       "    .dataframe thead th {\n",
       "        text-align: right;\n",
       "    }\n",
       "</style>\n",
       "<table border=\"1\" class=\"dataframe\">\n",
       "  <thead>\n",
       "    <tr style=\"text-align: right;\">\n",
       "      <th></th>\n",
       "      <th>Platform Name</th>\n",
       "      <th>Launch Year</th>\n",
       "      <th>Category</th>\n",
       "      <th>Primary Feature</th>\n",
       "      <th>Active Users (Million)</th>\n",
       "      <th>Target Audience</th>\n",
       "      <th>Unnamed: 6</th>\n",
       "    </tr>\n",
       "  </thead>\n",
       "  <tbody>\n",
       "    <tr>\n",
       "      <th>102</th>\n",
       "      <td>Tout</td>\n",
       "      <td>2010</td>\n",
       "      <td>Social Networking</td>\n",
       "      <td>Short video posts</td>\n",
       "      <td>5</td>\n",
       "      <td>Social media influencers</td>\n",
       "      <td>NaN</td>\n",
       "    </tr>\n",
       "    <tr>\n",
       "      <th>103</th>\n",
       "      <td>WT Social</td>\n",
       "      <td>2019</td>\n",
       "      <td>Social Networking</td>\n",
       "      <td>Ad-free social network</td>\n",
       "      <td>5</td>\n",
       "      <td>General public</td>\n",
       "      <td>NaN</td>\n",
       "    </tr>\n",
       "    <tr>\n",
       "      <th>104</th>\n",
       "      <td>Ello</td>\n",
       "      <td>2014</td>\n",
       "      <td>Social Networking</td>\n",
       "      <td>Artist-focused platform</td>\n",
       "      <td>5</td>\n",
       "      <td>Artists, creatives</td>\n",
       "      <td>NaN</td>\n",
       "    </tr>\n",
       "  </tbody>\n",
       "</table>\n",
       "</div>"
      ],
      "text/plain": [
       "    Platform Name  Launch Year           Category          Primary Feature  \\\n",
       "102          Tout         2010  Social Networking        Short video posts   \n",
       "103     WT Social         2019  Social Networking   Ad-free social network   \n",
       "104          Ello         2014  Social Networking  Artist-focused platform   \n",
       "\n",
       "     Active Users (Million)           Target Audience  Unnamed: 6  \n",
       "102                       5  Social media influencers         NaN  \n",
       "103                       5            General public         NaN  \n",
       "104                       5        Artists, creatives         NaN  "
      ]
     },
     "execution_count": 6,
     "metadata": {},
     "output_type": "execute_result"
    }
   ],
   "source": [
    "df.tail(3)  #used for last rows"
   ]
  },
  {
   "cell_type": "code",
   "execution_count": 7,
   "metadata": {},
   "outputs": [
    {
     "data": {
      "text/html": [
       "<div>\n",
       "<style scoped>\n",
       "    .dataframe tbody tr th:only-of-type {\n",
       "        vertical-align: middle;\n",
       "    }\n",
       "\n",
       "    .dataframe tbody tr th {\n",
       "        vertical-align: top;\n",
       "    }\n",
       "\n",
       "    .dataframe thead th {\n",
       "        text-align: right;\n",
       "    }\n",
       "</style>\n",
       "<table border=\"1\" class=\"dataframe\">\n",
       "  <thead>\n",
       "    <tr style=\"text-align: right;\">\n",
       "      <th></th>\n",
       "      <th>Platform Name</th>\n",
       "      <th>Launch Year</th>\n",
       "      <th>Category</th>\n",
       "      <th>Primary Feature</th>\n",
       "      <th>Active Users (Million)</th>\n",
       "      <th>Target Audience</th>\n",
       "      <th>Unnamed: 6</th>\n",
       "    </tr>\n",
       "  </thead>\n",
       "  <tbody>\n",
       "    <tr>\n",
       "      <th>104</th>\n",
       "      <td>Ello</td>\n",
       "      <td>2014</td>\n",
       "      <td>Social Networking</td>\n",
       "      <td>Artist-focused platform</td>\n",
       "      <td>5</td>\n",
       "      <td>Artists, creatives</td>\n",
       "      <td>NaN</td>\n",
       "    </tr>\n",
       "    <tr>\n",
       "      <th>69</th>\n",
       "      <td>Wayne</td>\n",
       "      <td>2019</td>\n",
       "      <td>Social Networking</td>\n",
       "      <td>Creative collaborations</td>\n",
       "      <td>5</td>\n",
       "      <td>Artists, creatives</td>\n",
       "      <td>NaN</td>\n",
       "    </tr>\n",
       "    <tr>\n",
       "      <th>82</th>\n",
       "      <td>beBee</td>\n",
       "      <td>2015</td>\n",
       "      <td>Professional Networking</td>\n",
       "      <td>Job networking</td>\n",
       "      <td>10</td>\n",
       "      <td>Professionals</td>\n",
       "      <td>NaN</td>\n",
       "    </tr>\n",
       "    <tr>\n",
       "      <th>39</th>\n",
       "      <td>Digg</td>\n",
       "      <td>2004</td>\n",
       "      <td>Social Bookmarking</td>\n",
       "      <td>Content discovery</td>\n",
       "      <td>5</td>\n",
       "      <td>Tech enthusiasts, general public</td>\n",
       "      <td>NaN</td>\n",
       "    </tr>\n",
       "    <tr>\n",
       "      <th>22</th>\n",
       "      <td>Douyin</td>\n",
       "      <td>2016</td>\n",
       "      <td>Social Networking</td>\n",
       "      <td>Short-form videos</td>\n",
       "      <td>600</td>\n",
       "      <td>Teens, young adults (China)</td>\n",
       "      <td>NaN</td>\n",
       "    </tr>\n",
       "    <tr>\n",
       "      <th>64</th>\n",
       "      <td>Steemit</td>\n",
       "      <td>2016</td>\n",
       "      <td>Social Networking</td>\n",
       "      <td>Blockchain-based content</td>\n",
       "      <td>10</td>\n",
       "      <td>Content creators, crypto enthusiasts</td>\n",
       "      <td>NaN</td>\n",
       "    </tr>\n",
       "  </tbody>\n",
       "</table>\n",
       "</div>"
      ],
      "text/plain": [
       "    Platform Name  Launch Year                 Category  \\\n",
       "104          Ello         2014        Social Networking   \n",
       "69          Wayne         2019        Social Networking   \n",
       "82          beBee         2015  Professional Networking   \n",
       "39           Digg         2004       Social Bookmarking   \n",
       "22         Douyin         2016        Social Networking   \n",
       "64        Steemit         2016        Social Networking   \n",
       "\n",
       "              Primary Feature  Active Users (Million)  \\\n",
       "104   Artist-focused platform                       5   \n",
       "69    Creative collaborations                       5   \n",
       "82             Job networking                      10   \n",
       "39          Content discovery                       5   \n",
       "22          Short-form videos                     600   \n",
       "64   Blockchain-based content                      10   \n",
       "\n",
       "                          Target Audience  Unnamed: 6  \n",
       "104                    Artists, creatives         NaN  \n",
       "69                     Artists, creatives         NaN  \n",
       "82                          Professionals         NaN  \n",
       "39       Tech enthusiasts, general public         NaN  \n",
       "22            Teens, young adults (China)         NaN  \n",
       "64   Content creators, crypto enthusiasts         NaN  "
      ]
     },
     "execution_count": 7,
     "metadata": {},
     "output_type": "execute_result"
    }
   ],
   "source": [
    "df.sample(6) #used to give random data"
   ]
  },
  {
   "cell_type": "code",
   "execution_count": 8,
   "metadata": {},
   "outputs": [
    {
     "data": {
      "text/html": [
       "<div>\n",
       "<style scoped>\n",
       "    .dataframe tbody tr th:only-of-type {\n",
       "        vertical-align: middle;\n",
       "    }\n",
       "\n",
       "    .dataframe tbody tr th {\n",
       "        vertical-align: top;\n",
       "    }\n",
       "\n",
       "    .dataframe thead th {\n",
       "        text-align: right;\n",
       "    }\n",
       "</style>\n",
       "<table border=\"1\" class=\"dataframe\">\n",
       "  <thead>\n",
       "    <tr style=\"text-align: right;\">\n",
       "      <th></th>\n",
       "      <th>Platform</th>\n",
       "      <th>Launch Year</th>\n",
       "      <th>Category</th>\n",
       "      <th>Primary Feature</th>\n",
       "      <th>Active Users (Million)</th>\n",
       "      <th>Target Audience</th>\n",
       "      <th>Unnamed: 6</th>\n",
       "    </tr>\n",
       "  </thead>\n",
       "  <tbody>\n",
       "    <tr>\n",
       "      <th>0</th>\n",
       "      <td>Facebook</td>\n",
       "      <td>2004</td>\n",
       "      <td>Social Networking</td>\n",
       "      <td>Social media, messaging</td>\n",
       "      <td>2900</td>\n",
       "      <td>General public</td>\n",
       "      <td>NaN</td>\n",
       "    </tr>\n",
       "    <tr>\n",
       "      <th>1</th>\n",
       "      <td>YouTube</td>\n",
       "      <td>2005</td>\n",
       "      <td>Video Sharing</td>\n",
       "      <td>Video streaming</td>\n",
       "      <td>2200</td>\n",
       "      <td>General public</td>\n",
       "      <td>NaN</td>\n",
       "    </tr>\n",
       "    <tr>\n",
       "      <th>2</th>\n",
       "      <td>WhatsApp</td>\n",
       "      <td>2009</td>\n",
       "      <td>Messaging</td>\n",
       "      <td>Instant messaging</td>\n",
       "      <td>2000</td>\n",
       "      <td>General public</td>\n",
       "      <td>NaN</td>\n",
       "    </tr>\n",
       "    <tr>\n",
       "      <th>3</th>\n",
       "      <td>Instagram</td>\n",
       "      <td>2010</td>\n",
       "      <td>Social Networking</td>\n",
       "      <td>Image sharing, Stories</td>\n",
       "      <td>1500</td>\n",
       "      <td>Young adults, teens</td>\n",
       "      <td>NaN</td>\n",
       "    </tr>\n",
       "    <tr>\n",
       "      <th>4</th>\n",
       "      <td>TikTok</td>\n",
       "      <td>2016</td>\n",
       "      <td>Social Networking</td>\n",
       "      <td>Short-form videos</td>\n",
       "      <td>1200</td>\n",
       "      <td>Teens, young adults</td>\n",
       "      <td>NaN</td>\n",
       "    </tr>\n",
       "    <tr>\n",
       "      <th>...</th>\n",
       "      <td>...</td>\n",
       "      <td>...</td>\n",
       "      <td>...</td>\n",
       "      <td>...</td>\n",
       "      <td>...</td>\n",
       "      <td>...</td>\n",
       "      <td>...</td>\n",
       "    </tr>\n",
       "    <tr>\n",
       "      <th>100</th>\n",
       "      <td>Giphy</td>\n",
       "      <td>2013</td>\n",
       "      <td>Social Networking</td>\n",
       "      <td>GIF sharing</td>\n",
       "      <td>100</td>\n",
       "      <td>General public</td>\n",
       "      <td>NaN</td>\n",
       "    </tr>\n",
       "    <tr>\n",
       "      <th>101</th>\n",
       "      <td>Vero</td>\n",
       "      <td>2015</td>\n",
       "      <td>Social Networking</td>\n",
       "      <td>Ad-free social media</td>\n",
       "      <td>10</td>\n",
       "      <td>Privacy-conscious users</td>\n",
       "      <td>NaN</td>\n",
       "    </tr>\n",
       "    <tr>\n",
       "      <th>102</th>\n",
       "      <td>Tout</td>\n",
       "      <td>2010</td>\n",
       "      <td>Social Networking</td>\n",
       "      <td>Short video posts</td>\n",
       "      <td>5</td>\n",
       "      <td>Social media influencers</td>\n",
       "      <td>NaN</td>\n",
       "    </tr>\n",
       "    <tr>\n",
       "      <th>103</th>\n",
       "      <td>WT Social</td>\n",
       "      <td>2019</td>\n",
       "      <td>Social Networking</td>\n",
       "      <td>Ad-free social network</td>\n",
       "      <td>5</td>\n",
       "      <td>General public</td>\n",
       "      <td>NaN</td>\n",
       "    </tr>\n",
       "    <tr>\n",
       "      <th>104</th>\n",
       "      <td>Ello</td>\n",
       "      <td>2014</td>\n",
       "      <td>Social Networking</td>\n",
       "      <td>Artist-focused platform</td>\n",
       "      <td>5</td>\n",
       "      <td>Artists, creatives</td>\n",
       "      <td>NaN</td>\n",
       "    </tr>\n",
       "  </tbody>\n",
       "</table>\n",
       "<p>105 rows × 7 columns</p>\n",
       "</div>"
      ],
      "text/plain": [
       "      Platform  Launch Year           Category          Primary Feature  \\\n",
       "0     Facebook         2004  Social Networking  Social media, messaging   \n",
       "1      YouTube         2005      Video Sharing          Video streaming   \n",
       "2     WhatsApp         2009          Messaging        Instant messaging   \n",
       "3    Instagram         2010  Social Networking   Image sharing, Stories   \n",
       "4       TikTok         2016  Social Networking        Short-form videos   \n",
       "..         ...          ...                ...                      ...   \n",
       "100      Giphy         2013  Social Networking              GIF sharing   \n",
       "101       Vero         2015  Social Networking     Ad-free social media   \n",
       "102       Tout         2010  Social Networking        Short video posts   \n",
       "103  WT Social         2019  Social Networking   Ad-free social network   \n",
       "104       Ello         2014  Social Networking  Artist-focused platform   \n",
       "\n",
       "     Active Users (Million)           Target Audience  Unnamed: 6  \n",
       "0                      2900            General public         NaN  \n",
       "1                      2200            General public         NaN  \n",
       "2                      2000            General public         NaN  \n",
       "3                      1500       Young adults, teens         NaN  \n",
       "4                      1200       Teens, young adults         NaN  \n",
       "..                      ...                       ...         ...  \n",
       "100                     100            General public         NaN  \n",
       "101                      10   Privacy-conscious users         NaN  \n",
       "102                       5  Social media influencers         NaN  \n",
       "103                       5            General public         NaN  \n",
       "104                       5        Artists, creatives         NaN  \n",
       "\n",
       "[105 rows x 7 columns]"
      ]
     },
     "execution_count": 8,
     "metadata": {},
     "output_type": "execute_result"
    }
   ],
   "source": [
    "df.rename(columns={\"Platform Name\" : \"Platform\"}) #used to chnage coloumn name"
   ]
  },
  {
   "cell_type": "code",
   "execution_count": 9,
   "metadata": {},
   "outputs": [
    {
     "data": {
      "text/html": [
       "<div>\n",
       "<style scoped>\n",
       "    .dataframe tbody tr th:only-of-type {\n",
       "        vertical-align: middle;\n",
       "    }\n",
       "\n",
       "    .dataframe tbody tr th {\n",
       "        vertical-align: top;\n",
       "    }\n",
       "\n",
       "    .dataframe thead th {\n",
       "        text-align: right;\n",
       "    }\n",
       "</style>\n",
       "<table border=\"1\" class=\"dataframe\">\n",
       "  <thead>\n",
       "    <tr style=\"text-align: right;\">\n",
       "      <th></th>\n",
       "      <th>Platform</th>\n",
       "      <th>Launch Year</th>\n",
       "      <th>Category</th>\n",
       "      <th>Primary Feature</th>\n",
       "      <th>Active Users (Million)</th>\n",
       "      <th>Target Audience</th>\n",
       "      <th>Unnamed: 6</th>\n",
       "    </tr>\n",
       "  </thead>\n",
       "  <tbody>\n",
       "    <tr>\n",
       "      <th>0</th>\n",
       "      <td>Facebook</td>\n",
       "      <td>2004</td>\n",
       "      <td>Social Networking</td>\n",
       "      <td>Social media, messaging</td>\n",
       "      <td>2900</td>\n",
       "      <td>General public</td>\n",
       "      <td>NaN</td>\n",
       "    </tr>\n",
       "    <tr>\n",
       "      <th>1</th>\n",
       "      <td>YouTube</td>\n",
       "      <td>2005</td>\n",
       "      <td>Video Sharing</td>\n",
       "      <td>Video streaming</td>\n",
       "      <td>2200</td>\n",
       "      <td>General public</td>\n",
       "      <td>NaN</td>\n",
       "    </tr>\n",
       "  </tbody>\n",
       "</table>\n",
       "</div>"
      ],
      "text/plain": [
       "   Platform  Launch Year           Category          Primary Feature  \\\n",
       "0  Facebook         2004  Social Networking  Social media, messaging   \n",
       "1   YouTube         2005      Video Sharing          Video streaming   \n",
       "\n",
       "   Active Users (Million) Target Audience  Unnamed: 6  \n",
       "0                    2900  General public         NaN  \n",
       "1                    2200  General public         NaN  "
      ]
     },
     "execution_count": 9,
     "metadata": {},
     "output_type": "execute_result"
    }
   ],
   "source": [
    "#If you rename a column with inplace=True, the column name in the original DataFrame will change immediately.(output will be updated name)\n",
    "df.rename(columns={\"Platform Name\" : \"Platform\"},inplace = True)  \n",
    "df.head(2)"
   ]
  },
  {
   "cell_type": "code",
   "execution_count": 14,
   "metadata": {},
   "outputs": [
    {
     "name": "stdout",
     "output_type": "stream",
     "text": [
      "<class 'pandas.core.frame.DataFrame'>\n",
      "RangeIndex: 105 entries, 0 to 104\n",
      "Data columns (total 7 columns):\n",
      " #   Column                  Non-Null Count  Dtype  \n",
      "---  ------                  --------------  -----  \n",
      " 0   Platform                105 non-null    object \n",
      " 1   Launch Year             105 non-null    int64  \n",
      " 2   Category                105 non-null    object \n",
      " 3   Primary Feature         105 non-null    object \n",
      " 4   Active Users (Million)  105 non-null    int64  \n",
      " 5   Target Audience         105 non-null    object \n",
      " 6   Unnamed: 6              0 non-null      float64\n",
      "dtypes: float64(1), int64(2), object(4)\n",
      "memory usage: 5.9+ KB\n"
     ]
    }
   ],
   "source": [
    "df.info()\n"
   ]
  },
  {
   "cell_type": "code",
   "execution_count": 14,
   "metadata": {},
   "outputs": [
    {
     "data": {
      "text/plain": [
       "234.96190476190475"
      ]
     },
     "execution_count": 14,
     "metadata": {},
     "output_type": "execute_result"
    }
   ],
   "source": [
    "# average \n",
    "# the code wont be able to find the average if there's a non numerical number.\n",
    "df['Active Users (Million)'].mean()\n"
   ]
  },
  {
   "cell_type": "code",
   "execution_count": 16,
   "metadata": {},
   "outputs": [
    {
     "data": {
      "text/plain": [
       "0    Social Networking\n",
       "Name: Category, dtype: object"
      ]
     },
     "execution_count": 16,
     "metadata": {},
     "output_type": "execute_result"
    }
   ],
   "source": [
    "# most common value(s)\n",
    "df['Category'].mode()"
   ]
  },
  {
   "cell_type": "markdown",
   "metadata": {},
   "source": [
    "## Duplicate (df.duplicated())\n",
    "This function checks for duplicate rows in the DataFrame df.\n",
    "It returns a boolean Series where each row is marked as True if it is a duplicate of a previous row and False otherwise"
   ]
  },
  {
   "cell_type": "code",
   "execution_count": 17,
   "metadata": {},
   "outputs": [
    {
     "data": {
      "text/plain": [
       "0      False\n",
       "1      False\n",
       "2      False\n",
       "3      False\n",
       "4      False\n",
       "       ...  \n",
       "100    False\n",
       "101    False\n",
       "102    False\n",
       "103    False\n",
       "104    False\n",
       "Length: 105, dtype: bool"
      ]
     },
     "execution_count": 17,
     "metadata": {},
     "output_type": "execute_result"
    }
   ],
   "source": [
    "df.duplicated()"
   ]
  },
  {
   "cell_type": "code",
   "execution_count": 15,
   "metadata": {},
   "outputs": [
    {
     "data": {
      "text/html": [
       "<div>\n",
       "<style scoped>\n",
       "    .dataframe tbody tr th:only-of-type {\n",
       "        vertical-align: middle;\n",
       "    }\n",
       "\n",
       "    .dataframe tbody tr th {\n",
       "        vertical-align: top;\n",
       "    }\n",
       "\n",
       "    .dataframe thead th {\n",
       "        text-align: right;\n",
       "    }\n",
       "</style>\n",
       "<table border=\"1\" class=\"dataframe\">\n",
       "  <thead>\n",
       "    <tr style=\"text-align: right;\">\n",
       "      <th></th>\n",
       "      <th>Launch Year</th>\n",
       "      <th>Active Users (Million)</th>\n",
       "      <th>Unnamed: 6</th>\n",
       "    </tr>\n",
       "  </thead>\n",
       "  <tbody>\n",
       "    <tr>\n",
       "      <th>count</th>\n",
       "      <td>105.000000</td>\n",
       "      <td>105.000000</td>\n",
       "      <td>0.0</td>\n",
       "    </tr>\n",
       "    <tr>\n",
       "      <th>mean</th>\n",
       "      <td>2008.390476</td>\n",
       "      <td>234.961905</td>\n",
       "      <td>NaN</td>\n",
       "    </tr>\n",
       "    <tr>\n",
       "      <th>std</th>\n",
       "      <td>5.570346</td>\n",
       "      <td>476.748481</td>\n",
       "      <td>NaN</td>\n",
       "    </tr>\n",
       "    <tr>\n",
       "      <th>min</th>\n",
       "      <td>1995.000000</td>\n",
       "      <td>2.000000</td>\n",
       "      <td>NaN</td>\n",
       "    </tr>\n",
       "    <tr>\n",
       "      <th>25%</th>\n",
       "      <td>2004.000000</td>\n",
       "      <td>10.000000</td>\n",
       "      <td>NaN</td>\n",
       "    </tr>\n",
       "    <tr>\n",
       "      <th>50%</th>\n",
       "      <td>2008.000000</td>\n",
       "      <td>50.000000</td>\n",
       "      <td>NaN</td>\n",
       "    </tr>\n",
       "    <tr>\n",
       "      <th>75%</th>\n",
       "      <td>2013.000000</td>\n",
       "      <td>250.000000</td>\n",
       "      <td>NaN</td>\n",
       "    </tr>\n",
       "    <tr>\n",
       "      <th>max</th>\n",
       "      <td>2020.000000</td>\n",
       "      <td>2900.000000</td>\n",
       "      <td>NaN</td>\n",
       "    </tr>\n",
       "  </tbody>\n",
       "</table>\n",
       "</div>"
      ],
      "text/plain": [
       "       Launch Year  Active Users (Million)  Unnamed: 6\n",
       "count   105.000000              105.000000         0.0\n",
       "mean   2008.390476              234.961905         NaN\n",
       "std       5.570346              476.748481         NaN\n",
       "min    1995.000000                2.000000         NaN\n",
       "25%    2004.000000               10.000000         NaN\n",
       "50%    2008.000000               50.000000         NaN\n",
       "75%    2013.000000              250.000000         NaN\n",
       "max    2020.000000             2900.000000         NaN"
      ]
     },
     "execution_count": 15,
     "metadata": {},
     "output_type": "execute_result"
    }
   ],
   "source": [
    "# for statistic analysis\n",
    "df.describe()"
   ]
  },
  {
   "cell_type": "code",
   "execution_count": 18,
   "metadata": {},
   "outputs": [
    {
     "data": {
      "text/html": [
       "<div>\n",
       "<style scoped>\n",
       "    .dataframe tbody tr th:only-of-type {\n",
       "        vertical-align: middle;\n",
       "    }\n",
       "\n",
       "    .dataframe tbody tr th {\n",
       "        vertical-align: top;\n",
       "    }\n",
       "\n",
       "    .dataframe thead th {\n",
       "        text-align: right;\n",
       "    }\n",
       "</style>\n",
       "<table border=\"1\" class=\"dataframe\">\n",
       "  <thead>\n",
       "    <tr style=\"text-align: right;\">\n",
       "      <th></th>\n",
       "      <th>Platform</th>\n",
       "      <th>Launch Year</th>\n",
       "      <th>Category</th>\n",
       "      <th>Primary Feature</th>\n",
       "      <th>Active Users (Million)</th>\n",
       "      <th>Target Audience</th>\n",
       "      <th>Unnamed: 6</th>\n",
       "    </tr>\n",
       "  </thead>\n",
       "  <tbody>\n",
       "    <tr>\n",
       "      <th>count</th>\n",
       "      <td>105</td>\n",
       "      <td>105.0</td>\n",
       "      <td>105</td>\n",
       "      <td>105</td>\n",
       "      <td>105.0</td>\n",
       "      <td>105</td>\n",
       "      <td>0.0</td>\n",
       "    </tr>\n",
       "    <tr>\n",
       "      <th>min</th>\n",
       "      <td>NaN</td>\n",
       "      <td>1995.0</td>\n",
       "      <td>NaN</td>\n",
       "      <td>NaN</td>\n",
       "      <td>2.0</td>\n",
       "      <td>NaN</td>\n",
       "      <td>NaN</td>\n",
       "    </tr>\n",
       "  </tbody>\n",
       "</table>\n",
       "</div>"
      ],
      "text/plain": [
       "      Platform  Launch Year Category Primary Feature  Active Users (Million)  \\\n",
       "count      105        105.0      105             105                   105.0   \n",
       "min        NaN       1995.0      NaN             NaN                     2.0   \n",
       "\n",
       "      Target Audience  Unnamed: 6  \n",
       "count             105         0.0  \n",
       "min               NaN         NaN  "
      ]
     },
     "execution_count": 18,
     "metadata": {},
     "output_type": "execute_result"
    }
   ],
   "source": [
    "# includes all and tell the index and positions\n",
    "df.describe(include = \"all\").iloc[[0,6]]"
   ]
  },
  {
   "cell_type": "code",
   "execution_count": 19,
   "metadata": {},
   "outputs": [
    {
     "data": {
      "text/html": [
       "<div>\n",
       "<style scoped>\n",
       "    .dataframe tbody tr th:only-of-type {\n",
       "        vertical-align: middle;\n",
       "    }\n",
       "\n",
       "    .dataframe tbody tr th {\n",
       "        vertical-align: top;\n",
       "    }\n",
       "\n",
       "    .dataframe thead th {\n",
       "        text-align: right;\n",
       "    }\n",
       "</style>\n",
       "<table border=\"1\" class=\"dataframe\">\n",
       "  <thead>\n",
       "    <tr style=\"text-align: right;\">\n",
       "      <th></th>\n",
       "      <th>Platform</th>\n",
       "      <th>Launch Year</th>\n",
       "      <th>Category</th>\n",
       "      <th>Primary Feature</th>\n",
       "      <th>Active Users (Million)</th>\n",
       "      <th>Target Audience</th>\n",
       "      <th>Unnamed: 6</th>\n",
       "    </tr>\n",
       "  </thead>\n",
       "  <tbody>\n",
       "    <tr>\n",
       "      <th>min</th>\n",
       "      <td>NaN</td>\n",
       "      <td>1995.0</td>\n",
       "      <td>NaN</td>\n",
       "      <td>NaN</td>\n",
       "      <td>2.0</td>\n",
       "      <td>NaN</td>\n",
       "      <td>NaN</td>\n",
       "    </tr>\n",
       "    <tr>\n",
       "      <th>max</th>\n",
       "      <td>NaN</td>\n",
       "      <td>2020.0</td>\n",
       "      <td>NaN</td>\n",
       "      <td>NaN</td>\n",
       "      <td>2900.0</td>\n",
       "      <td>NaN</td>\n",
       "      <td>NaN</td>\n",
       "    </tr>\n",
       "  </tbody>\n",
       "</table>\n",
       "</div>"
      ],
      "text/plain": [
       "    Platform  Launch Year Category Primary Feature  Active Users (Million)  \\\n",
       "min      NaN       1995.0      NaN             NaN                     2.0   \n",
       "max      NaN       2020.0      NaN             NaN                  2900.0   \n",
       "\n",
       "    Target Audience  Unnamed: 6  \n",
       "min             NaN         NaN  \n",
       "max             NaN         NaN  "
      ]
     },
     "execution_count": 19,
     "metadata": {},
     "output_type": "execute_result"
    }
   ],
   "source": [
    "# includes all and tell the minimum and maximum values\n",
    "df.describe(include = \"all\").loc[[\"min\",\"max\"]]"
   ]
  },
  {
   "cell_type": "markdown",
   "metadata": {},
   "source": [
    "## Adding a columns"
   ]
  },
  {
   "cell_type": "code",
   "execution_count": 20,
   "metadata": {},
   "outputs": [
    {
     "data": {
      "text/html": [
       "<div>\n",
       "<style scoped>\n",
       "    .dataframe tbody tr th:only-of-type {\n",
       "        vertical-align: middle;\n",
       "    }\n",
       "\n",
       "    .dataframe tbody tr th {\n",
       "        vertical-align: top;\n",
       "    }\n",
       "\n",
       "    .dataframe thead th {\n",
       "        text-align: right;\n",
       "    }\n",
       "</style>\n",
       "<table border=\"1\" class=\"dataframe\">\n",
       "  <thead>\n",
       "    <tr style=\"text-align: right;\">\n",
       "      <th></th>\n",
       "      <th>Platform</th>\n",
       "      <th>Launch Year</th>\n",
       "      <th>Category</th>\n",
       "      <th>Primary Feature</th>\n",
       "      <th>Active Users (Million)</th>\n",
       "      <th>Target Audience</th>\n",
       "      <th>Unnamed: 6</th>\n",
       "      <th>col</th>\n",
       "    </tr>\n",
       "  </thead>\n",
       "  <tbody>\n",
       "    <tr>\n",
       "      <th>0</th>\n",
       "      <td>Facebook</td>\n",
       "      <td>2004</td>\n",
       "      <td>Social Networking</td>\n",
       "      <td>Social media, messaging</td>\n",
       "      <td>2900</td>\n",
       "      <td>General public</td>\n",
       "      <td>NaN</td>\n",
       "      <td>4</td>\n",
       "    </tr>\n",
       "    <tr>\n",
       "      <th>1</th>\n",
       "      <td>YouTube</td>\n",
       "      <td>2005</td>\n",
       "      <td>Video Sharing</td>\n",
       "      <td>Video streaming</td>\n",
       "      <td>2200</td>\n",
       "      <td>General public</td>\n",
       "      <td>NaN</td>\n",
       "      <td>4</td>\n",
       "    </tr>\n",
       "    <tr>\n",
       "      <th>2</th>\n",
       "      <td>WhatsApp</td>\n",
       "      <td>2009</td>\n",
       "      <td>Messaging</td>\n",
       "      <td>Instant messaging</td>\n",
       "      <td>2000</td>\n",
       "      <td>General public</td>\n",
       "      <td>NaN</td>\n",
       "      <td>4</td>\n",
       "    </tr>\n",
       "    <tr>\n",
       "      <th>3</th>\n",
       "      <td>Instagram</td>\n",
       "      <td>2010</td>\n",
       "      <td>Social Networking</td>\n",
       "      <td>Image sharing, Stories</td>\n",
       "      <td>1500</td>\n",
       "      <td>Young adults, teens</td>\n",
       "      <td>NaN</td>\n",
       "      <td>4</td>\n",
       "    </tr>\n",
       "    <tr>\n",
       "      <th>4</th>\n",
       "      <td>TikTok</td>\n",
       "      <td>2016</td>\n",
       "      <td>Social Networking</td>\n",
       "      <td>Short-form videos</td>\n",
       "      <td>1200</td>\n",
       "      <td>Teens, young adults</td>\n",
       "      <td>NaN</td>\n",
       "      <td>4</td>\n",
       "    </tr>\n",
       "    <tr>\n",
       "      <th>...</th>\n",
       "      <td>...</td>\n",
       "      <td>...</td>\n",
       "      <td>...</td>\n",
       "      <td>...</td>\n",
       "      <td>...</td>\n",
       "      <td>...</td>\n",
       "      <td>...</td>\n",
       "      <td>...</td>\n",
       "    </tr>\n",
       "    <tr>\n",
       "      <th>100</th>\n",
       "      <td>Giphy</td>\n",
       "      <td>2013</td>\n",
       "      <td>Social Networking</td>\n",
       "      <td>GIF sharing</td>\n",
       "      <td>100</td>\n",
       "      <td>General public</td>\n",
       "      <td>NaN</td>\n",
       "      <td>4</td>\n",
       "    </tr>\n",
       "    <tr>\n",
       "      <th>101</th>\n",
       "      <td>Vero</td>\n",
       "      <td>2015</td>\n",
       "      <td>Social Networking</td>\n",
       "      <td>Ad-free social media</td>\n",
       "      <td>10</td>\n",
       "      <td>Privacy-conscious users</td>\n",
       "      <td>NaN</td>\n",
       "      <td>4</td>\n",
       "    </tr>\n",
       "    <tr>\n",
       "      <th>102</th>\n",
       "      <td>Tout</td>\n",
       "      <td>2010</td>\n",
       "      <td>Social Networking</td>\n",
       "      <td>Short video posts</td>\n",
       "      <td>5</td>\n",
       "      <td>Social media influencers</td>\n",
       "      <td>NaN</td>\n",
       "      <td>4</td>\n",
       "    </tr>\n",
       "    <tr>\n",
       "      <th>103</th>\n",
       "      <td>WT Social</td>\n",
       "      <td>2019</td>\n",
       "      <td>Social Networking</td>\n",
       "      <td>Ad-free social network</td>\n",
       "      <td>5</td>\n",
       "      <td>General public</td>\n",
       "      <td>NaN</td>\n",
       "      <td>4</td>\n",
       "    </tr>\n",
       "    <tr>\n",
       "      <th>104</th>\n",
       "      <td>Ello</td>\n",
       "      <td>2014</td>\n",
       "      <td>Social Networking</td>\n",
       "      <td>Artist-focused platform</td>\n",
       "      <td>5</td>\n",
       "      <td>Artists, creatives</td>\n",
       "      <td>NaN</td>\n",
       "      <td>4</td>\n",
       "    </tr>\n",
       "  </tbody>\n",
       "</table>\n",
       "<p>105 rows × 8 columns</p>\n",
       "</div>"
      ],
      "text/plain": [
       "      Platform  Launch Year           Category          Primary Feature  \\\n",
       "0     Facebook         2004  Social Networking  Social media, messaging   \n",
       "1      YouTube         2005      Video Sharing          Video streaming   \n",
       "2     WhatsApp         2009          Messaging        Instant messaging   \n",
       "3    Instagram         2010  Social Networking   Image sharing, Stories   \n",
       "4       TikTok         2016  Social Networking        Short-form videos   \n",
       "..         ...          ...                ...                      ...   \n",
       "100      Giphy         2013  Social Networking              GIF sharing   \n",
       "101       Vero         2015  Social Networking     Ad-free social media   \n",
       "102       Tout         2010  Social Networking        Short video posts   \n",
       "103  WT Social         2019  Social Networking   Ad-free social network   \n",
       "104       Ello         2014  Social Networking  Artist-focused platform   \n",
       "\n",
       "     Active Users (Million)           Target Audience  Unnamed: 6  col  \n",
       "0                      2900            General public         NaN    4  \n",
       "1                      2200            General public         NaN    4  \n",
       "2                      2000            General public         NaN    4  \n",
       "3                      1500       Young adults, teens         NaN    4  \n",
       "4                      1200       Teens, young adults         NaN    4  \n",
       "..                      ...                       ...         ...  ...  \n",
       "100                     100            General public         NaN    4  \n",
       "101                      10   Privacy-conscious users         NaN    4  \n",
       "102                       5  Social media influencers         NaN    4  \n",
       "103                       5            General public         NaN    4  \n",
       "104                       5        Artists, creatives         NaN    4  \n",
       "\n",
       "[105 rows x 8 columns]"
      ]
     },
     "execution_count": 20,
     "metadata": {},
     "output_type": "execute_result"
    }
   ],
   "source": [
    "df['col'] = 4\n",
    "df"
   ]
  },
  {
   "cell_type": "markdown",
   "metadata": {},
   "source": [
    "# Removing a Row"
   ]
  },
  {
   "cell_type": "code",
   "execution_count": 31,
   "metadata": {},
   "outputs": [
    {
     "data": {
      "text/html": [
       "<div>\n",
       "<style scoped>\n",
       "    .dataframe tbody tr th:only-of-type {\n",
       "        vertical-align: middle;\n",
       "    }\n",
       "\n",
       "    .dataframe tbody tr th {\n",
       "        vertical-align: top;\n",
       "    }\n",
       "\n",
       "    .dataframe thead th {\n",
       "        text-align: right;\n",
       "    }\n",
       "</style>\n",
       "<table border=\"1\" class=\"dataframe\">\n",
       "  <thead>\n",
       "    <tr style=\"text-align: right;\">\n",
       "      <th></th>\n",
       "      <th>Platform</th>\n",
       "      <th>Launch Year</th>\n",
       "      <th>Category</th>\n",
       "      <th>Primary Feature</th>\n",
       "      <th>Active Users (Million)</th>\n",
       "      <th>Target Audience</th>\n",
       "      <th>Unnamed: 6</th>\n",
       "      <th>col</th>\n",
       "    </tr>\n",
       "  </thead>\n",
       "  <tbody>\n",
       "    <tr>\n",
       "      <th>0</th>\n",
       "      <td>Facebook</td>\n",
       "      <td>2004</td>\n",
       "      <td>Social Networking</td>\n",
       "      <td>Social media, messaging</td>\n",
       "      <td>2900</td>\n",
       "      <td>General public</td>\n",
       "      <td>NaN</td>\n",
       "      <td>4</td>\n",
       "    </tr>\n",
       "    <tr>\n",
       "      <th>1</th>\n",
       "      <td>YouTube</td>\n",
       "      <td>2005</td>\n",
       "      <td>Video Sharing</td>\n",
       "      <td>Video streaming</td>\n",
       "      <td>2200</td>\n",
       "      <td>General public</td>\n",
       "      <td>NaN</td>\n",
       "      <td>4</td>\n",
       "    </tr>\n",
       "    <tr>\n",
       "      <th>3</th>\n",
       "      <td>Instagram</td>\n",
       "      <td>2010</td>\n",
       "      <td>Social Networking</td>\n",
       "      <td>Image sharing, Stories</td>\n",
       "      <td>1500</td>\n",
       "      <td>Young adults, teens</td>\n",
       "      <td>NaN</td>\n",
       "      <td>4</td>\n",
       "    </tr>\n",
       "    <tr>\n",
       "      <th>4</th>\n",
       "      <td>TikTok</td>\n",
       "      <td>2016</td>\n",
       "      <td>Social Networking</td>\n",
       "      <td>Short-form videos</td>\n",
       "      <td>1200</td>\n",
       "      <td>Teens, young adults</td>\n",
       "      <td>NaN</td>\n",
       "      <td>4</td>\n",
       "    </tr>\n",
       "    <tr>\n",
       "      <th>6</th>\n",
       "      <td>Reddit</td>\n",
       "      <td>2005</td>\n",
       "      <td>Forum/Community</td>\n",
       "      <td>User-generated content</td>\n",
       "      <td>450</td>\n",
       "      <td>General public, techies</td>\n",
       "      <td>NaN</td>\n",
       "      <td>4</td>\n",
       "    </tr>\n",
       "    <tr>\n",
       "      <th>...</th>\n",
       "      <td>...</td>\n",
       "      <td>...</td>\n",
       "      <td>...</td>\n",
       "      <td>...</td>\n",
       "      <td>...</td>\n",
       "      <td>...</td>\n",
       "      <td>...</td>\n",
       "      <td>...</td>\n",
       "    </tr>\n",
       "    <tr>\n",
       "      <th>100</th>\n",
       "      <td>Giphy</td>\n",
       "      <td>2013</td>\n",
       "      <td>Social Networking</td>\n",
       "      <td>GIF sharing</td>\n",
       "      <td>100</td>\n",
       "      <td>General public</td>\n",
       "      <td>NaN</td>\n",
       "      <td>4</td>\n",
       "    </tr>\n",
       "    <tr>\n",
       "      <th>101</th>\n",
       "      <td>Vero</td>\n",
       "      <td>2015</td>\n",
       "      <td>Social Networking</td>\n",
       "      <td>Ad-free social media</td>\n",
       "      <td>10</td>\n",
       "      <td>Privacy-conscious users</td>\n",
       "      <td>NaN</td>\n",
       "      <td>4</td>\n",
       "    </tr>\n",
       "    <tr>\n",
       "      <th>102</th>\n",
       "      <td>Tout</td>\n",
       "      <td>2010</td>\n",
       "      <td>Social Networking</td>\n",
       "      <td>Short video posts</td>\n",
       "      <td>5</td>\n",
       "      <td>Social media influencers</td>\n",
       "      <td>NaN</td>\n",
       "      <td>4</td>\n",
       "    </tr>\n",
       "    <tr>\n",
       "      <th>103</th>\n",
       "      <td>WT Social</td>\n",
       "      <td>2019</td>\n",
       "      <td>Social Networking</td>\n",
       "      <td>Ad-free social network</td>\n",
       "      <td>5</td>\n",
       "      <td>General public</td>\n",
       "      <td>NaN</td>\n",
       "      <td>4</td>\n",
       "    </tr>\n",
       "    <tr>\n",
       "      <th>104</th>\n",
       "      <td>Ello</td>\n",
       "      <td>2014</td>\n",
       "      <td>Social Networking</td>\n",
       "      <td>Artist-focused platform</td>\n",
       "      <td>5</td>\n",
       "      <td>Artists, creatives</td>\n",
       "      <td>NaN</td>\n",
       "      <td>4</td>\n",
       "    </tr>\n",
       "  </tbody>\n",
       "</table>\n",
       "<p>102 rows × 8 columns</p>\n",
       "</div>"
      ],
      "text/plain": [
       "      Platform  Launch Year           Category          Primary Feature  \\\n",
       "0     Facebook         2004  Social Networking  Social media, messaging   \n",
       "1      YouTube         2005      Video Sharing          Video streaming   \n",
       "3    Instagram         2010  Social Networking   Image sharing, Stories   \n",
       "4       TikTok         2016  Social Networking        Short-form videos   \n",
       "6       Reddit         2005    Forum/Community   User-generated content   \n",
       "..         ...          ...                ...                      ...   \n",
       "100      Giphy         2013  Social Networking              GIF sharing   \n",
       "101       Vero         2015  Social Networking     Ad-free social media   \n",
       "102       Tout         2010  Social Networking        Short video posts   \n",
       "103  WT Social         2019  Social Networking   Ad-free social network   \n",
       "104       Ello         2014  Social Networking  Artist-focused platform   \n",
       "\n",
       "     Active Users (Million)           Target Audience  Unnamed: 6  col  \n",
       "0                      2900            General public         NaN    4  \n",
       "1                      2200            General public         NaN    4  \n",
       "3                      1500       Young adults, teens         NaN    4  \n",
       "4                      1200       Teens, young adults         NaN    4  \n",
       "6                       450   General public, techies         NaN    4  \n",
       "..                      ...                       ...         ...  ...  \n",
       "100                     100            General public         NaN    4  \n",
       "101                      10   Privacy-conscious users         NaN    4  \n",
       "102                       5  Social media influencers         NaN    4  \n",
       "103                       5            General public         NaN    4  \n",
       "104                       5        Artists, creatives         NaN    4  \n",
       "\n",
       "[102 rows x 8 columns]"
      ]
     },
     "execution_count": 31,
     "metadata": {},
     "output_type": "execute_result"
    }
   ],
   "source": [
    "df.drop(2,inplace=True) # it removed my 0,50,51 and 53 index\n",
    "df\n"
   ]
  },
  {
   "cell_type": "code",
   "execution_count": 52,
   "metadata": {},
   "outputs": [
    {
     "name": "stdout",
     "output_type": "stream",
     "text": [
      "Top 5 Social Media Platforms:\n",
      "     Platform  Active Users (Million)\n",
      "0    Facebook                    2900\n",
      "1     YouTube                    2200\n",
      "2    WhatsApp                    2000\n",
      "3   Instagram                    1500\n",
      "10  Messenger                    1300\n"
     ]
    }
   ],
   "source": [
    "top_platforms = df.sort_values(by='Active Users (Million)', ascending=False)\n",
    "print(\"Top 5 Social Media Platforms:\")\n",
    "print(top_platforms[['Platform', 'Active Users (Million)']].head())"
   ]
  },
  {
   "cell_type": "code",
   "execution_count": 19,
   "metadata": {},
   "outputs": [
    {
     "data": {
      "text/plain": [
       "Platform                  105\n",
       "Launch Year               105\n",
       "Category                  105\n",
       "Primary Feature           105\n",
       "Active Users (Million)    105\n",
       "Target Audience           105\n",
       "Unnamed: 6                  0\n",
       "dtype: int64"
      ]
     },
     "execution_count": 19,
     "metadata": {},
     "output_type": "execute_result"
    }
   ],
   "source": [
    "df.count()\n"
   ]
  },
  {
   "cell_type": "code",
   "execution_count": 25,
   "metadata": {},
   "outputs": [
    {
     "name": "stdout",
     "output_type": "stream",
     "text": [
      "0       Facebook\n",
      "1        YouTube\n",
      "2       WhatsApp\n",
      "3      Instagram\n",
      "4         TikTok\n",
      "         ...    \n",
      "100        Giphy\n",
      "101         Vero\n",
      "102         Tout\n",
      "103    WT Social\n",
      "104         Ello\n",
      "Name: Platform, Length: 105, dtype: object\n"
     ]
    }
   ],
   "source": [
    "# if you want to work on specific column\n",
    "a = series = df['Platform']\n",
    "print(a)"
   ]
  },
  {
   "cell_type": "code",
   "execution_count": 28,
   "metadata": {},
   "outputs": [
    {
     "data": {
      "text/html": [
       "<div>\n",
       "<style scoped>\n",
       "    .dataframe tbody tr th:only-of-type {\n",
       "        vertical-align: middle;\n",
       "    }\n",
       "\n",
       "    .dataframe tbody tr th {\n",
       "        vertical-align: top;\n",
       "    }\n",
       "\n",
       "    .dataframe thead th {\n",
       "        text-align: right;\n",
       "    }\n",
       "</style>\n",
       "<table border=\"1\" class=\"dataframe\">\n",
       "  <thead>\n",
       "    <tr style=\"text-align: right;\">\n",
       "      <th></th>\n",
       "      <th>Platform</th>\n",
       "      <th>Target Audience</th>\n",
       "    </tr>\n",
       "  </thead>\n",
       "  <tbody>\n",
       "    <tr>\n",
       "      <th>0</th>\n",
       "      <td>Facebook</td>\n",
       "      <td>General public</td>\n",
       "    </tr>\n",
       "    <tr>\n",
       "      <th>1</th>\n",
       "      <td>YouTube</td>\n",
       "      <td>General public</td>\n",
       "    </tr>\n",
       "    <tr>\n",
       "      <th>2</th>\n",
       "      <td>WhatsApp</td>\n",
       "      <td>General public</td>\n",
       "    </tr>\n",
       "    <tr>\n",
       "      <th>3</th>\n",
       "      <td>Instagram</td>\n",
       "      <td>Young adults, teens</td>\n",
       "    </tr>\n",
       "    <tr>\n",
       "      <th>4</th>\n",
       "      <td>TikTok</td>\n",
       "      <td>Teens, young adults</td>\n",
       "    </tr>\n",
       "  </tbody>\n",
       "</table>\n",
       "</div>"
      ],
      "text/plain": [
       "    Platform      Target Audience\n",
       "0   Facebook       General public\n",
       "1    YouTube       General public\n",
       "2   WhatsApp       General public\n",
       "3  Instagram  Young adults, teens\n",
       "4     TikTok  Teens, young adults"
      ]
     },
     "execution_count": 28,
     "metadata": {},
     "output_type": "execute_result"
    }
   ],
   "source": [
    "b = DataFrame = df[[\"Platform\",\"Target Audience\"]]\n",
    "b.head(5)"
   ]
  },
  {
   "cell_type": "code",
   "execution_count": 29,
   "metadata": {},
   "outputs": [
    {
     "data": {
      "text/plain": [
       "Platform\n",
       "Facebook       1\n",
       "Skyrock        1\n",
       "MyHeritage     1\n",
       "ASMALLWORLD    1\n",
       "Classmates     1\n",
       "              ..\n",
       "Meetup         1\n",
       "DeviantArt     1\n",
       "Next Door      1\n",
       "Mix            1\n",
       "Ello           1\n",
       "Name: count, Length: 105, dtype: int64"
      ]
     },
     "execution_count": 29,
     "metadata": {},
     "output_type": "execute_result"
    }
   ],
   "source": [
    "df['Platform'].value_counts()  #how many times data have come in each coloumn"
   ]
  },
  {
   "cell_type": "code",
   "execution_count": 31,
   "metadata": {},
   "outputs": [
    {
     "data": {
      "text/plain": [
       "<Axes: xlabel='Active Users (Million)'>"
      ]
     },
     "execution_count": 31,
     "metadata": {},
     "output_type": "execute_result"
    },
    {
     "data": {
      "image/png": "[encoded data removed]",
      "text/plain": [
       "<Figure size 640x480 with 1 Axes>"
      ]
     },
     "metadata": {},
     "output_type": "display_data"
    }
   ],
   "source": [
    "df['Active Users (Million)'].value_counts().plot(kind=\"bar\")"
   ]
  },
  {
   "cell_type": "code",
   "execution_count": 33,
   "metadata": {},
   "outputs": [
    {
     "data": {
      "text/plain": [
       "<Axes: ylabel='Launch Year'>"
      ]
     },
     "execution_count": 33,
     "metadata": {},
     "output_type": "execute_result"
    },
    {
     "data": {
      "image/png": "[encoded data removed]",
      "text/plain": [
       "<Figure size 640x480 with 1 Axes>"
      ]
     },
     "metadata": {},
     "output_type": "display_data"
    }
   ],
   "source": [
    "df['Launch Year'].value_counts().plot(kind=\"barh\")"
   ]
  },
  {
   "cell_type": "code",
   "execution_count": 36,
   "metadata": {},
   "outputs": [
    {
     "data": {
      "text/plain": [
       "<Axes: xlabel='Active Users (Million)'>"
      ]
     },
     "execution_count": 36,
     "metadata": {},
     "output_type": "execute_result"
    },
    {
     "data": {
      "image/png": "[encoded data removed]",
      "text/plain": [
       "<Figure size 640x480 with 1 Axes>"
      ]
     },
     "metadata": {},
     "output_type": "display_data"
    }
   ],
   "source": [
    "df['Active Users (Million)'].value_counts().plot(kind=\"area\")"
   ]
  },
  {
   "cell_type": "code",
   "execution_count": 38,
   "metadata": {},
   "outputs": [
    {
     "data": {
      "text/plain": [
       "<Axes: >"
      ]
     },
     "execution_count": 38,
     "metadata": {},
     "output_type": "execute_result"
    },
    {
     "data": {
      "image/png": "[encoded data removed]",
      "text/plain": [
       "<Figure size 640x480 with 1 Axes>"
      ]
     },
     "metadata": {},
     "output_type": "display_data"
    }
   ],
   "source": [
    "df['Category'].value_counts().plot(kind=\"box\")"
   ]
  },
  {
   "cell_type": "code",
   "execution_count": 41,
   "metadata": {},
   "outputs": [
    {
     "data": {
      "text/plain": [
       "<Axes: ylabel='count'>"
      ]
     },
     "execution_count": 41,
     "metadata": {},
     "output_type": "execute_result"
    },
    {
     "data": {
      "image/png": "[encoded data removed]",
      "text/plain": [
       "<Figure size 640x480 with 1 Axes>"
      ]
     },
     "metadata": {},
     "output_type": "display_data"
    }
   ],
   "source": [
    "df['Platform'].value_counts().plot(kind=\"pie\")"
   ]
  },
  {
   "cell_type": "code",
   "execution_count": 46,
   "metadata": {},
   "outputs": [
    {
     "data": {
      "text/plain": [
       "<Axes: ylabel='Frequency'>"
      ]
     },
     "execution_count": 46,
     "metadata": {},
     "output_type": "execute_result"
    },
    {
     "data": {
      "image/png": "[encoded data removed]",
      "text/plain": [
       "<Figure size 640x480 with 1 Axes>"
      ]
     },
     "metadata": {},
     "output_type": "display_data"
    }
   ],
   "source": [
    "df['Category'].value_counts().plot(kind=\"hist\")"
   ]
  },
  {
   "cell_type": "code",
   "execution_count": 47,
   "metadata": {},
   "outputs": [
    {
     "data": {
      "text/plain": [
       "<Axes: ylabel='Frequency'>"
      ]
     },
     "execution_count": 47,
     "metadata": {},
     "output_type": "execute_result"
    },
    {
     "data": {
      "image/png": "[encoded data removed]",
      "text/plain": [
       "<Figure size 640x480 with 1 Axes>"
      ]
     },
     "metadata": {},
     "output_type": "display_data"
    }
   ],
   "source": [
    "df['Primary Feature'].value_counts().plot(kind=\"hist\")"
   ]
  },
  {
   "cell_type": "code",
   "execution_count": 48,
   "metadata": {},
   "outputs": [
    {
     "data": {
      "text/plain": [
       "<Axes: ylabel='Density'>"
      ]
     },
     "execution_count": 48,
     "metadata": {},
     "output_type": "execute_result"
    },
    {
     "data": {
      "image/png": "[encoded data removed]",
      "text/plain": [
       "<Figure size 640x480 with 1 Axes>"
      ]
     },
     "metadata": {},
     "output_type": "display_data"
    }
   ],
   "source": [
    "df['Category'].value_counts().plot(kind=\"kde\")"
   ]
  },
  {
   "cell_type": "code",
   "execution_count": 49,
   "metadata": {},
   "outputs": [
    {
     "data": {
      "text/plain": [
       "<Axes: xlabel='Launch Year'>"
      ]
     },
     "execution_count": 49,
     "metadata": {},
     "output_type": "execute_result"
    },
    {
     "data": {
      "image/png": "[encoded data removed]",
      "text/plain": [
       "<Figure size 640x480 with 1 Axes>"
      ]
     },
     "metadata": {},
     "output_type": "display_data"
    }
   ],
   "source": [
    "df['Launch Year'].value_counts().plot(kind=\"line\")"
   ]
  },
  {
   "cell_type": "markdown",
   "metadata": {},
   "source": [
    "# Data Saving"
   ]
  },
  {
   "cell_type": "code",
   "execution_count": 34,
   "metadata": {},
   "outputs": [],
   "source": [
    "df = pd.read_csv(\"topranks.csv\")\n",
    "df.to_excel(\"final project.xlsx\", index=False)\n",
    "\n"
   ]
  }
 ],
 "metadata": {
  "kernelspec": {
   "display_name": "base",
   "language": "python",
   "name": "python3"
  },
  "language_info": {
   "codemirror_mode": {
    "name": "ipython",
    "version": 3
   },
   "file_extension": ".py",
   "mimetype": "text/x-python",
   "name": "python",
   "nbconvert_exporter": "python",
   "pygments_lexer": "ipython3",
   "version": "3.12.7"
  }
 },
 "nbformat": 4,
 "nbformat_minor": 2
}
